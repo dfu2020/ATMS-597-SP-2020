{
  "nbformat": 4,
  "nbformat_minor": 0,
  "metadata": {
    "colab": {
      "name": "ATMS597_Project1_GroupB.ipynb",
      "provenance": [],
      "authorship_tag": "ABX9TyM57RlAltuZ/lUPSpwxNZC9",
      "include_colab_link": true
    },
    "kernelspec": {
      "name": "python3",
      "display_name": "Python 3"
    }
  },
  "cells": [
    {
      "cell_type": "markdown",
      "metadata": {
        "id": "view-in-github",
        "colab_type": "text"
      },
      "source": [
        "<a href=\"https://colab.research.google.com/github/pgarg7/ATMS-597-SP-2020/blob/master/ATMS597_Project1_GroupB.ipynb\" target=\"_parent\"><img src=\"https://colab.research.google.com/assets/colab-badge.svg\" alt=\"Open In Colab\"/></a>"
      ]
    },
    {
      "cell_type": "code",
      "metadata": {
        "id": "4KDAN0DG9XzU",
        "colab_type": "code",
        "colab": {}
      },
      "source": [
        "import numpy as np\n",
        "import scipy as sp\n",
        "import math \n"
      ],
      "execution_count": 0,
      "outputs": []
    },
    {
      "cell_type": "code",
      "metadata": {
        "id": "nMo7tW_4Izi1",
        "colab_type": "code",
        "colab": {}
      },
      "source": [
        "class tempconvert:\n",
        "\n",
        "  #Conversion Attributes\n",
        "  def __init__(self,scale,temp):\n",
        "    self.temp = temp\n",
        "    self.scale = scale\n",
        "  \n",
        "  #Conversion to Celsius method\n",
        "  def celsius(self):\n",
        "    if self.scale == 'F':\n",
        "      temp_conv = (self.temp-32.)*(5/9)\n",
        "    if self.scale == 'K':\n",
        "      temp_conv = (self.temp-273.15)\n",
        "    return \"{} {} converted to \".format(self.temp,self.scale)+str(temp_conv)+\" Celsius\"\n",
        "  \n",
        "  #Conversion to Fahrenheit method\n",
        "  def Fahrenheit(self):\n",
        "    if self.scale == 'C':\n",
        "      temp_conv = ((self.temp)*(9/5))+32.\n",
        "    if self.scale == 'K':\n",
        "      temp_conv = ((self.temp)*(9/5))-459.67\n",
        "    return \"{} {} converted to \".format(self.temp, self.scale)+str(temp_conv)+\" Fahrenheit\"\n",
        "\n",
        "  #Conversion to Kelvin method\n",
        "  def Kelvin(self):\n",
        "    if self.scale == 'C':\n",
        "      temp_conv = (self.temp+273.15)\n",
        "    if self.scale == 'F':\n",
        "      temp_conv = (self.temp+459.67)*(5/9)\n",
        "    return \"{} {} converted to \".format(self.temp, self.scale)+str(temp_conv)+\" Kelvin\""
      ],
      "execution_count": 0,
      "outputs": []
    },
    {
      "cell_type": "code",
      "metadata": {
        "id": "OCFFj6-TNolm",
        "colab_type": "code",
        "colab": {}
      },
      "source": [
        "con = tempconvert(\"K\",300.)"
      ],
      "execution_count": 0,
      "outputs": []
    },
    {
      "cell_type": "code",
      "metadata": {
        "id": "obA6wx-GN1Gv",
        "colab_type": "code",
        "colab": {
          "base_uri": "https://localhost:8080/",
          "height": 51
        },
        "outputId": "48cc9430-3309-470b-e3a5-4de657f8d82d"
      },
      "source": [
        "print(con.celsius())\n",
        "print(con.Fahrenheit())"
      ],
      "execution_count": 22,
      "outputs": [
        {
          "output_type": "stream",
          "text": [
            "300.0 K converted to 26.850000000000023 Celsius\n",
            "300.0 K converted to 80.32999999999998 Fahrenheit\n"
          ],
          "name": "stdout"
        }
      ]
    },
    {
      "cell_type": "code",
      "metadata": {
        "id": "X5RTy5u3N5jW",
        "colab_type": "code",
        "colab": {}
      },
      "source": [
        ""
      ],
      "execution_count": 0,
      "outputs": []
    }
  ]
}
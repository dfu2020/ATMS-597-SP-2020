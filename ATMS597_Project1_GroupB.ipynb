{
  "nbformat": 4,
  "nbformat_minor": 0,
  "metadata": {
    "colab": {
      "name": "Copy of ATMS597_Project1_GroupB.ipynb",
      "provenance": [],
      "collapsed_sections": [],
      "include_colab_link": true
    },
    "kernelspec": {
      "name": "python3",
      "display_name": "Python 3"
    }
  },
  "cells": [
    {
      "cell_type": "markdown",
      "metadata": {
        "id": "view-in-github",
        "colab_type": "text"
      },
      "source": [
        "<a href=\"https://colab.research.google.com/github/dfu2020/ATMS-597-SP-2020/blob/master/ATMS597_Project1_GroupB.ipynb\" target=\"_parent\"><img src=\"https://colab.research.google.com/assets/colab-badge.svg\" alt=\"Open In Colab\"/></a>"
      ]
    },
    {
      "cell_type": "code",
      "metadata": {
        "id": "nMo7tW_4Izi1",
        "colab_type": "code",
        "colab": {}
      },
      "source": [
        "\"\"\" \n",
        "  This module includes\n",
        "  inter-conversion between \"Celsius\",\n",
        "  \"Fahrenheit\" and \"Kelvin\".\n",
        "  \n",
        "  Input datatype includes list and array.\n",
        "\"\"\"\n",
        "#(c) Copyright ATMS-597 Group B Project 1\n",
        "\n",
        "import numpy as np\n",
        "import scipy as sp\n",
        "import math \n",
        "\n",
        "class tempconvert: \n",
        "  \n",
        "  # Conversion Attributes\n",
        "  def __init__(self, scale, temp):\n",
        "      self.temp = temp       \n",
        "      self.scale = scale     \n",
        "  \n",
        "  #Conversion to Celsius method\n",
        "  def Celsius(self):\n",
        "    temp_conv = np.zeros((np.shape(self.temp)))    \n",
        "    if self.scale == 'F':\n",
        "      for i in range(len(self.temp)):\n",
        "        temp_conv[i] = (self.temp[i] - 32.) * (5/9)\n",
        "    if self.scale == 'K':\n",
        "      for i in range(len(self.temp)):\n",
        "        temp_conv[i] = (self.temp[i] - 273.15)\n",
        "    if type(self.temp)==list:\n",
        "      return temp_conv.tolist()\n",
        "    else:\n",
        "      return temp_conv\n",
        "    #return \"{} {} converted to \".format(self.temp,self.scale)+str(temp_conv)+\" Celsius\"\n",
        "  \n",
        "  #Conversion to Fahrenheit method\n",
        "  def Fahrenheit(self):\n",
        "    temp_conv = np.zeros((np.shape(self.temp)))\n",
        "    if self.scale == 'C':\n",
        "      for i in range(len(self.temp)):\n",
        "        temp_conv[i] = ((self.temp[i]) * (9/5)) + 32.\n",
        "    if self.scale == 'K':\n",
        "      for i in range(len(self.temp)):\n",
        "        temp_conv[i] = ((self.temp[i]) * (9/5)) - 459.67\n",
        "    if type(self.temp)==list:\n",
        "      return temp_conv.tolist()\n",
        "    else:\n",
        "      return temp_conv\n",
        "    #return \"{} {} converted to \".format(self.temp, self.scale)+str(temp_conv)+\" Fahrenheit\"\n",
        "\n",
        "  #Conversion to Kelvin method\n",
        "  def Kelvin(self):\n",
        "    temp_conv = np.zeros((np.shape(self.temp)))\n",
        "    if self.scale == 'C':\n",
        "      for i in range(len(self.temp)):\n",
        "        temp_conv[i] = (self.temp[i] + 273.15)\n",
        "    if self.scale == 'F':\n",
        "      for i in range(len(self.temp)):\n",
        "        temp_conv[i] = (self.temp[i] + 459.67) * (5/9)\n",
        "    if type(self.temp)==list:\n",
        "      return temp_conv.tolist()\n",
        "    else:\n",
        "      return temp_conv\n",
        "    #return \"{} {} converted to \".format(self.temp, self.scale)+str(temp_conv)+\" Kelvin\""
      ],
      "execution_count": 0,
      "outputs": []
    },
    {
      "cell_type": "code",
      "metadata": {
        "id": "OCFFj6-TNolm",
        "colab_type": "code",
        "colab": {}
      },
      "source": [
        "con_k = tempconvert(\"K\",np.arange(280.,320.,5.))\n",
        "con_c = tempconvert(\"C\",np.arange(20.,35.,1.))\n",
        "con_f = tempconvert(\"F\",np.arange(72.,85.,1.).tolist())"
      ],
      "execution_count": 0,
      "outputs": []
    },
    {
      "cell_type": "code",
      "metadata": {
        "id": "obA6wx-GN1Gv",
        "colab_type": "code",
        "outputId": "6d4d2749-97fb-4f08-a28b-50969d5f8988",
        "colab": {
          "base_uri": "https://localhost:8080/",
          "height": 34
        }
      },
      "source": [
        "con_k.celsius()\n",
        "con_k.Fahrenheit()"
      ],
      "execution_count": 8,
      "outputs": [
        {
          "output_type": "execute_result",
          "data": {
            "text/plain": [
              "array([ 44.33,  53.33,  62.33,  71.33,  80.33,  89.33,  98.33, 107.33])"
            ]
          },
          "metadata": {
            "tags": []
          },
          "execution_count": 8
        }
      ]
    },
    {
      "cell_type": "code",
      "metadata": {
        "id": "a4-WKS3WUXae",
        "colab_type": "code",
        "outputId": "0f682740-2209-409e-9f08-0b5cd6fa831d",
        "colab": {
          "base_uri": "https://localhost:8080/",
          "height": 85
        }
      },
      "source": [
        "print(con_c.Kelvin())\n",
        "print(con_c.Fahrenheit())"
      ],
      "execution_count": 10,
      "outputs": [
        {
          "output_type": "stream",
          "text": [
            "[293.15 294.15 295.15 296.15 297.15 298.15 299.15 300.15 301.15 302.15\n",
            " 303.15 304.15 305.15 306.15 307.15]\n",
            "[68.  69.8 71.6 73.4 75.2 77.  78.8 80.6 82.4 84.2 86.  87.8 89.6 91.4\n",
            " 93.2]\n"
          ],
          "name": "stdout"
        }
      ]
    },
    {
      "cell_type": "code",
      "metadata": {
        "id": "23rkvw3vZmQk",
        "colab_type": "code",
        "outputId": "f14fc391-c9f6-4fc7-cb92-7c03cac9ba2d",
        "colab": {
          "base_uri": "https://localhost:8080/",
          "height": 91
        }
      },
      "source": [
        "print(con_f.Kelvin())\n",
        "print(con_f.celsius())"
      ],
      "execution_count": 0,
      "outputs": [
        {
          "output_type": "stream",
          "text": [
            "[295.37222222222226, 295.9277777777778, 296.4833333333334, 297.03888888888895, 297.5944444444445, 298.15000000000003, 298.70555555555563, 299.2611111111112, 299.8166666666667, 300.37222222222226, 300.9277777777778, 301.4833333333334, 302.03888888888895]\n",
            "[22.22222222222222, 22.77777777777778, 23.333333333333336, 23.88888888888889, 24.444444444444446, 25.0, 25.555555555555557, 26.11111111111111, 26.666666666666668, 27.222222222222225, 27.77777777777778, 28.333333333333336, 28.88888888888889]\n"
          ],
          "name": "stdout"
        }
      ]
    },
    {
      "cell_type": "code",
      "metadata": {
        "id": "4HrRzLSZeuCd",
        "colab_type": "code",
        "colab": {}
      },
      "source": [
        ""
      ],
      "execution_count": 0,
      "outputs": []
    }
  ]
}
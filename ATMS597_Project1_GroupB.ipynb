{
  "nbformat": 4,
  "nbformat_minor": 0,
  "metadata": {
    "colab": {
      "name": "ATMS597_Project1_GroupB.ipynb",
      "provenance": [],
      "authorship_tag": "ABX9TyOt9xZTP6jiv+mIU8/Cs9pq",
      "include_colab_link": true
    },
    "kernelspec": {
      "name": "python3",
      "display_name": "Python 3"
    }
  },
  "cells": [
    {
      "cell_type": "markdown",
      "metadata": {
        "id": "view-in-github",
        "colab_type": "text"
      },
      "source": [
        "<a href=\"https://colab.research.google.com/github/pgarg7/ATMS-597-SP-2020/blob/master/ATMS597_Project1_GroupB.ipynb\" target=\"_parent\"><img src=\"https://colab.research.google.com/assets/colab-badge.svg\" alt=\"Open In Colab\"/></a>"
      ]
    },
    {
      "cell_type": "code",
      "metadata": {
        "id": "4KDAN0DG9XzU",
        "colab_type": "code",
        "colab": {}
      },
      "source": [
        "import numpy as np\n",
        "import scipy as sp\n",
        "import math \n"
      ],
      "execution_count": 0,
      "outputs": []
    },
    {
      "cell_type": "markdown",
      "metadata": {
        "id": "8CuRHvB4aI3j",
        "colab_type": "text"
      },
      "source": [
        "# I have created the object-oriented code for single values as input. You guys can add the array functionality to it and then we are good to submit the project to Steve. "
      ]
    },
    {
      "cell_type": "code",
      "metadata": {
        "id": "nMo7tW_4Izi1",
        "colab_type": "code",
        "colab": {}
      },
      "source": [
        "class tempconvert:\n",
        "\n",
        "  #Conversion Attributes\n",
        "  def __init__(self,scale,temp):\n",
        "    self.temp = temp\n",
        "    self.scale = scale\n",
        "  \n",
        "  #Conversion to Celsius method\n",
        "  def celsius(self):\n",
        "    if self.scale == 'F':\n",
        "      temp_conv = (self.temp-32.)*(5/9)\n",
        "    if self.scale == 'K':\n",
        "      temp_conv = (self.temp-273.15)\n",
        "    return \"{} {} converted to \".format(self.temp,self.scale)+str(temp_conv)+\" Celsius\"\n",
        "  \n",
        "  #Conversion to Fahrenheit method\n",
        "  def Fahrenheit(self):\n",
        "    if self.scale == 'C':\n",
        "      temp_conv = ((self.temp)*(9/5))+32.\n",
        "    if self.scale == 'K':\n",
        "      temp_conv = ((self.temp)*(9/5))-459.67\n",
        "    return \"{} {} converted to \".format(self.temp, self.scale)+str(temp_conv)+\" Fahrenheit\"\n",
        "\n",
        "  #Conversion to Kelvin method\n",
        "  def Kelvin(self):\n",
        "    if self.scale == 'C':\n",
        "      temp_conv = (self.temp+273.15)\n",
        "    if self.scale == 'F':\n",
        "      temp_conv = (self.temp+459.67)*(5/9)\n",
        "    return \"{} {} converted to \".format(self.temp, self.scale)+str(temp_conv)+\" Kelvin\""
      ],
      "execution_count": 0,
      "outputs": []
    },
    {
      "cell_type": "code",
      "metadata": {
        "id": "OCFFj6-TNolm",
        "colab_type": "code",
        "colab": {}
      },
      "source": [
        "con_k = tempconvert(\"K\",300.)\n",
        "con_c = tempconvert(\"C\",32.)\n",
        "con_f = tempconvert(\"F\",65.)"
      ],
      "execution_count": 0,
      "outputs": []
    },
    {
      "cell_type": "code",
      "metadata": {
        "id": "obA6wx-GN1Gv",
        "colab_type": "code",
        "colab": {
          "base_uri": "https://localhost:8080/",
          "height": 51
        },
        "outputId": "f124d5f3-bf6a-422d-a268-55000ab220e7"
      },
      "source": [
        "print(con_k.celsius())\n",
        "print(con_k.Fahrenheit())"
      ],
      "execution_count": 42,
      "outputs": [
        {
          "output_type": "stream",
          "text": [
            "300.0 K converted to 26.850000000000023 Celsius\n",
            "300.0 K converted to 80.32999999999998 Fahrenheit\n"
          ],
          "name": "stdout"
        }
      ]
    },
    {
      "cell_type": "code",
      "metadata": {
        "id": "a4-WKS3WUXae",
        "colab_type": "code",
        "colab": {
          "base_uri": "https://localhost:8080/",
          "height": 51
        },
        "outputId": "f5a98068-2505-4d54-9dff-c86852a08c7b"
      },
      "source": [
        "print(con_c.Kelvin())\n",
        "print(con_c.Fahrenheit())"
      ],
      "execution_count": 43,
      "outputs": [
        {
          "output_type": "stream",
          "text": [
            "32.0 C converted to 305.15 Kelvin\n",
            "32.0 C converted to 89.6 Fahrenheit\n"
          ],
          "name": "stdout"
        }
      ]
    },
    {
      "cell_type": "code",
      "metadata": {
        "id": "23rkvw3vZmQk",
        "colab_type": "code",
        "colab": {
          "base_uri": "https://localhost:8080/",
          "height": 51
        },
        "outputId": "d2555121-e873-4cbf-f798-4e4127884beb"
      },
      "source": [
        "print(con_f.Kelvin())\n",
        "print(con_f.celsius())"
      ],
      "execution_count": 45,
      "outputs": [
        {
          "output_type": "stream",
          "text": [
            "65.0 F converted to 291.4833333333334 Kelvin\n",
            "65.0 F converted to 18.333333333333336 Celsius\n"
          ],
          "name": "stdout"
        }
      ]
    },
    {
      "cell_type": "code",
      "metadata": {
        "id": "eLtT-StyZrz2",
        "colab_type": "code",
        "colab": {}
      },
      "source": [
        ""
      ],
      "execution_count": 0,
      "outputs": []
    }
  ]
}
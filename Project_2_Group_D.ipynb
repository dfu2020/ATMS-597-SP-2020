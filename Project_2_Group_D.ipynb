{
  "nbformat": 4,
  "nbformat_minor": 0,
  "metadata": {
    "colab": {
      "name": "Copy of Project-2_Group_D.ipynb",
      "provenance": [],
      "collapsed_sections": [],
      "authorship_tag": "ABX9TyPTMGmlkvqiHC0WMsXFrtC7",
      "include_colab_link": true
    },
    "kernelspec": {
      "name": "python3",
      "display_name": "Python 3"
    }
  },
  "cells": [
    {
      "cell_type": "markdown",
      "metadata": {
        "id": "view-in-github",
        "colab_type": "text"
      },
      "source": [
        "<a href=\"https://colab.research.google.com/github/dfu2020/ATMS-597-SP-2020/blob/master/Project_2_Group_D.ipynb\" target=\"_parent\"><img src=\"https://colab.research.google.com/assets/colab-badge.svg\" alt=\"Open In Colab\"/></a>"
      ]
    },
    {
      "cell_type": "markdown",
      "metadata": {
        "id": "gNC7N9fjX1fA",
        "colab_type": "text"
      },
      "source": [
        "### **The first few boxes I am just trying to work on using a class and pass in the input variables..., feel free to remove them if you find it disturbing.**"
      ]
    },
    {
      "cell_type": "code",
      "metadata": {
        "id": "kGqBobkDUXI6",
        "colab_type": "code",
        "colab": {}
      },
      "source": [
        "import pandas as pd\n",
        "import numpy as np\n",
        "import matplotlib.pyplot as plt\n",
        "import scipy as sp\n",
        "import math \n",
        "import datetime\n",
        "import requests\n",
        "from IPython import display # for updating the cell dynamically"
      ],
      "execution_count": 0,
      "outputs": []
    },
    {
      "cell_type": "code",
      "metadata": {
        "id": "RXX6XjLtEnRQ",
        "colab_type": "code",
        "colab": {}
      },
      "source": [
        "class download_data:\n",
        "  def __init__(self,start_year, start_month,start_day,end_year,end_month,end_day,station_id):\n",
        "    self.start_year = start_year     \n",
        "    self.start_month = start_month\n",
        "    self.start_day = start_day\n",
        "    self.end_year = end_year     \n",
        "    self.end_month = end_month\n",
        "    self.end_day = end_day\n",
        "    self.station_id = station_id\n",
        "  def make_request(endpoint, payload=None):\n",
        "    \"\"\"\n",
        "    Make a request to a specific endpoint on the weather API\n",
        "    passing headers and optional payload.\n",
        "    \n",
        "    Parameters:\n",
        "        - endpoint: The endpoint of the API you want to \n",
        "                    make a GET request to.\n",
        "        - payload: A dictionary of data to pass along \n",
        "                   with the request.\n",
        "    \n",
        "    Returns:\n",
        "        Response object.\n",
        "    \"\"\"\n",
        "    return requests.get(\n",
        "        f'https://www.ncdc.noaa.gov/cdo-web/api/v2/{endpoint}',\n",
        "        headers={\n",
        "            'token': 'UZdWJQdqeSTqhkXeOlNYMGzbwUkFJAeh'\n",
        "        },\n",
        "        params=payload\n",
        "    )\n",
        "  def write_to_pandas(self):\n",
        "    current = datetime.date(self.start_year, self.start_month, self.start_day)\n",
        "    end = datetime.date(self.end_year, self.end_month, self.end_day)\n",
        "\n",
        "    results = []\n",
        "\n",
        "    while current < end:\n",
        "        # update the cell with status information\n",
        "        display.clear_output(wait=True)\n",
        "        display.display(f'Gathering data for {str(current)}')\n",
        "        \n",
        "        response = make_request(\n",
        "            'data', \n",
        "            {\n",
        "                'datasetid' : 'GHCND', # Global Historical Climatology Network - Daily (GHCND) dataset\n",
        "                'stationid' : self.station_id, # NYC\n",
        "                'startdate' : current,\n",
        "                'enddate' : current,\n",
        "                'units' : 'metric',\n",
        "                'limit' : 1000 # max allowed\n",
        "            }\n",
        "        )\n",
        "\n",
        "        if response.ok:\n",
        "            # we extend the list instead of appending to avoid getting a nested list\n",
        "            results.extend(response.json()['results'])\n",
        "\n",
        "        # update the current date to avoid an infinite loop\n",
        "        current += datetime.timedelta(days=1)\n",
        "    \n",
        "    df = pd.DataFrame(results)\n",
        "    return df\n"
      ],
      "execution_count": 0,
      "outputs": []
    },
    {
      "cell_type": "code",
      "metadata": {
        "id": "E0uZP4KjFTHX",
        "colab_type": "code",
        "colab": {
          "base_uri": "https://localhost:8080/",
          "height": 34
        },
        "outputId": "0e03188d-d73e-4c60-bccb-ab3c4db77b5d"
      },
      "source": [
        "h=download_data(2001,2,1,2001,2,4,'GHCND:ASN00009871').write_to_pandas()"
      ],
      "execution_count": 147,
      "outputs": [
        {
          "output_type": "display_data",
          "data": {
            "text/plain": [
              "'Gathering data for 2001-02-03'"
            ]
          },
          "metadata": {
            "tags": []
          }
        }
      ]
    },
    {
      "cell_type": "code",
      "metadata": {
        "id": "fjwMCEMnPTr-",
        "colab_type": "code",
        "outputId": "b68b060a-5ade-4fbc-b571-d6756ae34f94",
        "colab": {
          "base_uri": "https://localhost:8080/",
          "height": 328
        }
      },
      "source": [
        "h"
      ],
      "execution_count": 148,
      "outputs": [
        {
          "output_type": "execute_result",
          "data": {
            "text/html": [
              "<div>\n",
              "<style scoped>\n",
              "    .dataframe tbody tr th:only-of-type {\n",
              "        vertical-align: middle;\n",
              "    }\n",
              "\n",
              "    .dataframe tbody tr th {\n",
              "        vertical-align: top;\n",
              "    }\n",
              "\n",
              "    .dataframe thead th {\n",
              "        text-align: right;\n",
              "    }\n",
              "</style>\n",
              "<table border=\"1\" class=\"dataframe\">\n",
              "  <thead>\n",
              "    <tr style=\"text-align: right;\">\n",
              "      <th></th>\n",
              "      <th>date</th>\n",
              "      <th>datatype</th>\n",
              "      <th>station</th>\n",
              "      <th>attributes</th>\n",
              "      <th>value</th>\n",
              "    </tr>\n",
              "  </thead>\n",
              "  <tbody>\n",
              "    <tr>\n",
              "      <th>0</th>\n",
              "      <td>2001-02-01T00:00:00</td>\n",
              "      <td>PRCP</td>\n",
              "      <td>GHCND:ASN00009871</td>\n",
              "      <td>,,a,</td>\n",
              "      <td>2.2</td>\n",
              "    </tr>\n",
              "    <tr>\n",
              "      <th>1</th>\n",
              "      <td>2001-02-01T00:00:00</td>\n",
              "      <td>TMAX</td>\n",
              "      <td>GHCND:ASN00009871</td>\n",
              "      <td>,,a,</td>\n",
              "      <td>20.7</td>\n",
              "    </tr>\n",
              "    <tr>\n",
              "      <th>2</th>\n",
              "      <td>2001-02-01T00:00:00</td>\n",
              "      <td>TMIN</td>\n",
              "      <td>GHCND:ASN00009871</td>\n",
              "      <td>,,a,</td>\n",
              "      <td>14.8</td>\n",
              "    </tr>\n",
              "    <tr>\n",
              "      <th>3</th>\n",
              "      <td>2001-02-02T00:00:00</td>\n",
              "      <td>PRCP</td>\n",
              "      <td>GHCND:ASN00009871</td>\n",
              "      <td>,,a,</td>\n",
              "      <td>0.0</td>\n",
              "    </tr>\n",
              "    <tr>\n",
              "      <th>4</th>\n",
              "      <td>2001-02-02T00:00:00</td>\n",
              "      <td>TMAX</td>\n",
              "      <td>GHCND:ASN00009871</td>\n",
              "      <td>,,a,</td>\n",
              "      <td>22.5</td>\n",
              "    </tr>\n",
              "    <tr>\n",
              "      <th>5</th>\n",
              "      <td>2001-02-02T00:00:00</td>\n",
              "      <td>TMIN</td>\n",
              "      <td>GHCND:ASN00009871</td>\n",
              "      <td>,,a,</td>\n",
              "      <td>10.9</td>\n",
              "    </tr>\n",
              "    <tr>\n",
              "      <th>6</th>\n",
              "      <td>2001-02-03T00:00:00</td>\n",
              "      <td>PRCP</td>\n",
              "      <td>GHCND:ASN00009871</td>\n",
              "      <td>,,a,</td>\n",
              "      <td>0.0</td>\n",
              "    </tr>\n",
              "    <tr>\n",
              "      <th>7</th>\n",
              "      <td>2001-02-03T00:00:00</td>\n",
              "      <td>TMAX</td>\n",
              "      <td>GHCND:ASN00009871</td>\n",
              "      <td>,,a,</td>\n",
              "      <td>25.3</td>\n",
              "    </tr>\n",
              "    <tr>\n",
              "      <th>8</th>\n",
              "      <td>2001-02-03T00:00:00</td>\n",
              "      <td>TMIN</td>\n",
              "      <td>GHCND:ASN00009871</td>\n",
              "      <td>,,a,</td>\n",
              "      <td>11.3</td>\n",
              "    </tr>\n",
              "  </tbody>\n",
              "</table>\n",
              "</div>"
            ],
            "text/plain": [
              "                  date datatype            station attributes  value\n",
              "0  2001-02-01T00:00:00     PRCP  GHCND:ASN00009871       ,,a,    2.2\n",
              "1  2001-02-01T00:00:00     TMAX  GHCND:ASN00009871       ,,a,   20.7\n",
              "2  2001-02-01T00:00:00     TMIN  GHCND:ASN00009871       ,,a,   14.8\n",
              "3  2001-02-02T00:00:00     PRCP  GHCND:ASN00009871       ,,a,    0.0\n",
              "4  2001-02-02T00:00:00     TMAX  GHCND:ASN00009871       ,,a,   22.5\n",
              "5  2001-02-02T00:00:00     TMIN  GHCND:ASN00009871       ,,a,   10.9\n",
              "6  2001-02-03T00:00:00     PRCP  GHCND:ASN00009871       ,,a,    0.0\n",
              "7  2001-02-03T00:00:00     TMAX  GHCND:ASN00009871       ,,a,   25.3\n",
              "8  2001-02-03T00:00:00     TMIN  GHCND:ASN00009871       ,,a,   11.3"
            ]
          },
          "metadata": {
            "tags": []
          },
          "execution_count": 148
        }
      ]
    },
    {
      "cell_type": "markdown",
      "metadata": {
        "id": "cxVeYly7Xp6N",
        "colab_type": "text"
      },
      "source": [
        "# **Here is downloading the data and saving it to pandas dataframe, start from here:**"
      ]
    },
    {
      "cell_type": "code",
      "metadata": {
        "id": "95qAOZFDVENR",
        "colab_type": "code",
        "colab": {}
      },
      "source": [
        "import requests\n",
        "def make_request(endpoint, payload=None):\n",
        "    \"\"\"\n",
        "    Make a request to a specific endpoint on the weather API\n",
        "    passing headers and optional payload.\n",
        "    \n",
        "    Parameters:\n",
        "        - endpoint: The endpoint of the API you want to \n",
        "                    make a GET request to.\n",
        "        - payload: A dictionary of data to pass along \n",
        "                   with the request.\n",
        "    \n",
        "    Returns:\n",
        "        Response object.\n",
        "    \"\"\"\n",
        "    return requests.get(\n",
        "        f'https://www.ncdc.noaa.gov/cdo-web/api/v2/{endpoint}',\n",
        "        headers={\n",
        "            'token': 'UZdWJQdqeSTqhkXeOlNYMGzbwUkFJAeh'\n",
        "        },\n",
        "        params=payload\n",
        "    )"
      ],
      "execution_count": 0,
      "outputs": []
    },
    {
      "cell_type": "code",
      "metadata": {
        "id": "ra9tTl-8VyMD",
        "colab_type": "code",
        "colab": {}
      },
      "source": [
        "import datetime\n",
        "from IPython import display\n",
        "\n",
        "current = datetime.date(2002, 1, 1)\n",
        "end = datetime.date(2002, 2, 20)\n",
        "\n",
        "results = []\n",
        "\n",
        "while current < end:\n",
        "    # update the cell with status information\n",
        "    response = make_request(\n",
        "        'data', \n",
        "        {\n",
        "            'datasetid' : 'GHCND', # Global Historical Climatology Network - Daily (GHCND) dataset\n",
        "            'stationid' : 'GHCND:ASN00009871', # NYC\n",
        "            'startdate' : current,\n",
        "            'enddate' : current,\n",
        "            'units' : 'metric',\n",
        "            'limit' : 1000 # max allowed\n",
        "        }\n",
        "    )\n",
        "\n",
        "    if response.ok:\n",
        "        # we extend the list instead of appending to avoid getting a nested list\n",
        "        results.extend(response.json()['results'])\n",
        "\n",
        "    # update the current date to avoid an infinite loop\n",
        "    current += datetime.timedelta(days=1)"
      ],
      "execution_count": 0,
      "outputs": []
    },
    {
      "cell_type": "code",
      "metadata": {
        "id": "gZKXCyF0IbUJ",
        "colab_type": "code",
        "outputId": "faf24f5a-5caa-46dd-fde1-752d5ec0186c",
        "colab": {
          "base_uri": "https://localhost:8080/",
          "height": 419
        }
      },
      "source": [
        "df = pd.DataFrame(results)\n",
        "df"
      ],
      "execution_count": 153,
      "outputs": [
        {
          "output_type": "execute_result",
          "data": {
            "text/html": [
              "<div>\n",
              "<style scoped>\n",
              "    .dataframe tbody tr th:only-of-type {\n",
              "        vertical-align: middle;\n",
              "    }\n",
              "\n",
              "    .dataframe tbody tr th {\n",
              "        vertical-align: top;\n",
              "    }\n",
              "\n",
              "    .dataframe thead th {\n",
              "        text-align: right;\n",
              "    }\n",
              "</style>\n",
              "<table border=\"1\" class=\"dataframe\">\n",
              "  <thead>\n",
              "    <tr style=\"text-align: right;\">\n",
              "      <th></th>\n",
              "      <th>date</th>\n",
              "      <th>datatype</th>\n",
              "      <th>station</th>\n",
              "      <th>attributes</th>\n",
              "      <th>value</th>\n",
              "    </tr>\n",
              "  </thead>\n",
              "  <tbody>\n",
              "    <tr>\n",
              "      <th>0</th>\n",
              "      <td>2002-01-01T00:00:00</td>\n",
              "      <td>PRCP</td>\n",
              "      <td>GHCND:ASN00009871</td>\n",
              "      <td>,,a,</td>\n",
              "      <td>0.0</td>\n",
              "    </tr>\n",
              "    <tr>\n",
              "      <th>1</th>\n",
              "      <td>2002-01-01T00:00:00</td>\n",
              "      <td>TMAX</td>\n",
              "      <td>GHCND:ASN00009871</td>\n",
              "      <td>,,a,</td>\n",
              "      <td>21.5</td>\n",
              "    </tr>\n",
              "    <tr>\n",
              "      <th>2</th>\n",
              "      <td>2002-01-01T00:00:00</td>\n",
              "      <td>TMIN</td>\n",
              "      <td>GHCND:ASN00009871</td>\n",
              "      <td>,,a,</td>\n",
              "      <td>15.9</td>\n",
              "    </tr>\n",
              "    <tr>\n",
              "      <th>3</th>\n",
              "      <td>2002-01-02T00:00:00</td>\n",
              "      <td>PRCP</td>\n",
              "      <td>GHCND:ASN00009871</td>\n",
              "      <td>,,a,</td>\n",
              "      <td>0.0</td>\n",
              "    </tr>\n",
              "    <tr>\n",
              "      <th>4</th>\n",
              "      <td>2002-01-02T00:00:00</td>\n",
              "      <td>TMAX</td>\n",
              "      <td>GHCND:ASN00009871</td>\n",
              "      <td>,,a,</td>\n",
              "      <td>21.5</td>\n",
              "    </tr>\n",
              "    <tr>\n",
              "      <th>...</th>\n",
              "      <td>...</td>\n",
              "      <td>...</td>\n",
              "      <td>...</td>\n",
              "      <td>...</td>\n",
              "      <td>...</td>\n",
              "    </tr>\n",
              "    <tr>\n",
              "      <th>119</th>\n",
              "      <td>2002-02-17T00:00:00</td>\n",
              "      <td>TMAX</td>\n",
              "      <td>GHCND:ASN00009871</td>\n",
              "      <td>,,a,</td>\n",
              "      <td>21.5</td>\n",
              "    </tr>\n",
              "    <tr>\n",
              "      <th>120</th>\n",
              "      <td>2002-02-17T00:00:00</td>\n",
              "      <td>TMIN</td>\n",
              "      <td>GHCND:ASN00009871</td>\n",
              "      <td>,,a,</td>\n",
              "      <td>13.9</td>\n",
              "    </tr>\n",
              "    <tr>\n",
              "      <th>121</th>\n",
              "      <td>2002-02-18T00:00:00</td>\n",
              "      <td>PRCP</td>\n",
              "      <td>GHCND:ASN00009871</td>\n",
              "      <td>,,a,</td>\n",
              "      <td>0.0</td>\n",
              "    </tr>\n",
              "    <tr>\n",
              "      <th>122</th>\n",
              "      <td>2002-02-18T00:00:00</td>\n",
              "      <td>TMAX</td>\n",
              "      <td>GHCND:ASN00009871</td>\n",
              "      <td>,,a,</td>\n",
              "      <td>24.7</td>\n",
              "    </tr>\n",
              "    <tr>\n",
              "      <th>123</th>\n",
              "      <td>2002-02-18T00:00:00</td>\n",
              "      <td>TMIN</td>\n",
              "      <td>GHCND:ASN00009871</td>\n",
              "      <td>,,a,</td>\n",
              "      <td>11.3</td>\n",
              "    </tr>\n",
              "  </tbody>\n",
              "</table>\n",
              "<p>124 rows × 5 columns</p>\n",
              "</div>"
            ],
            "text/plain": [
              "                    date datatype            station attributes  value\n",
              "0    2002-01-01T00:00:00     PRCP  GHCND:ASN00009871       ,,a,    0.0\n",
              "1    2002-01-01T00:00:00     TMAX  GHCND:ASN00009871       ,,a,   21.5\n",
              "2    2002-01-01T00:00:00     TMIN  GHCND:ASN00009871       ,,a,   15.9\n",
              "3    2002-01-02T00:00:00     PRCP  GHCND:ASN00009871       ,,a,    0.0\n",
              "4    2002-01-02T00:00:00     TMAX  GHCND:ASN00009871       ,,a,   21.5\n",
              "..                   ...      ...                ...        ...    ...\n",
              "119  2002-02-17T00:00:00     TMAX  GHCND:ASN00009871       ,,a,   21.5\n",
              "120  2002-02-17T00:00:00     TMIN  GHCND:ASN00009871       ,,a,   13.9\n",
              "121  2002-02-18T00:00:00     PRCP  GHCND:ASN00009871       ,,a,    0.0\n",
              "122  2002-02-18T00:00:00     TMAX  GHCND:ASN00009871       ,,a,   24.7\n",
              "123  2002-02-18T00:00:00     TMIN  GHCND:ASN00009871       ,,a,   11.3\n",
              "\n",
              "[124 rows x 5 columns]"
            ]
          },
          "metadata": {
            "tags": []
          },
          "execution_count": 153
        }
      ]
    },
    {
      "cell_type": "code",
      "metadata": {
        "id": "zHq3Ei7J4F_9",
        "colab_type": "code",
        "colab": {}
      },
      "source": [
        ""
      ],
      "execution_count": 0,
      "outputs": []
    },
    {
      "cell_type": "code",
      "metadata": {
        "id": "rzDgFSO14-ep",
        "colab_type": "code",
        "colab": {}
      },
      "source": [
        ""
      ],
      "execution_count": 0,
      "outputs": []
    }
  ]
}